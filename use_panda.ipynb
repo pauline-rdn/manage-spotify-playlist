{
 "cells": [
  {
   "cell_type": "code",
   "execution_count": 2,
   "id": "58915a2c",
   "metadata": {},
   "outputs": [],
   "source": [
    "import pandas as pd"
   ]
  },
  {
   "cell_type": "code",
   "execution_count": 3,
   "id": "2cf0cc92",
   "metadata": {},
   "outputs": [],
   "source": [
    "df = pd.read_pickle(\"pauline.pkl\")"
   ]
  },
  {
   "cell_type": "code",
   "execution_count": 4,
   "id": "0a1929a3",
   "metadata": {},
   "outputs": [
    {
     "data": {
      "text/plain": [
       "array(['Hard Amat’', 'Les Vestiges de ma Vingtaine', 'Balance Gal',\n",
       "       'Bicarbonate', 'Chaque fois que j’y pense', 'Wojtek Vs Srin Po',\n",
       "       'Elyxir', 'PÉQUISSS', 'PÉQUISSS', 'PÉQUISSS', 'PÉQUISSS',\n",
       "       'Dony S vs Wojtek', 'Dony S vs Wojtek', 'Blackapar vs Sango',\n",
       "       'Lawid & Dinos Punchlinovic vs Lunik & Mic Orni', 'Emeraude',\n",
       "       'Nourrisson', 'Freddy Gruesum vs Wojtek', '3ème période',\n",
       "       'FORTDEMÊME', 'Canons à Neige', 'L’avance de trop',\n",
       "       'Remerciements de Ateyaba', 'PROLONGATION',\n",
       "       'Marshall’Ombre & Arcanes vs Crack-A-Starr & Woodman', 'Recherché',\n",
       "       'Intro', 'Wojtek vs Louvar', 'Wojtek vs Louvar',\n",
       "       'Wojtek vs Louvar', '1982', '1982', '1982', '1982', '1982', '1982',\n",
       "       '1982', '1982', '1982', 'Allô la police', '110%',\n",
       "       'Pour la musique s’il vous plaît', 'Dommage',\n",
       "       'Never Forget You (Pas Oublié)', 'Débile', 'Débile', 'Débile',\n",
       "       'Impoli', 'Elvira', 'Wojtek vs. Hermano Salvatore', 'Pauline',\n",
       "       'Pauline', 'Pauline', 'Pauline', 'Pauline', 'Pauline', 'Pauline',\n",
       "       'Pauline', 'Pauline', 'On se lève', 'Dommage (version acoustique)',\n",
       "       'Roue Libre', 'Roue Libre', 'I - #FautQueToutChange',\n",
       "       'VI - Pauline', 'VI - Pauline', 'VI - Pauline', 'VI - Pauline',\n",
       "       'VI - Pauline', 'VI - Pauline', 'VI - Pauline', 'Guiseppe',\n",
       "       'Pauline', 'Back To The Sippin', 'Moet', 'Les Autres (Intro)',\n",
       "       'Xavi', 'K5 vs Louvar (Battle pour le titre)', 'Saut à la perche',\n",
       "       'Nodcd', 'Glitch #1', 'Bruce Wayne', 'Vie rapide',\n",
       "       'Freestyle Savies #1 - Drill', 'SLT', '13 balles', 'Vanille',\n",
       "       'Cheef vs. Sedj', 'Lipgloss', 'Nickel', 'Pellicule', 'Pellicule',\n",
       "       'Février', 'Sauter un fusible',\n",
       "       'Wherever I Go You Will Be With Me',\n",
       "       'Wherever I Go You Will Be With Me', 'Supersonic',\n",
       "       'Nique le swagg', 'Alb’homme #3 : Du Hall au Music Hall'],\n",
       "      dtype=object)"
      ]
     },
     "execution_count": 4,
     "metadata": {},
     "output_type": "execute_result"
    }
   ],
   "source": [
    "df[\"name\"].values"
   ]
  },
  {
   "cell_type": "code",
   "execution_count": null,
   "id": "af86a8c5",
   "metadata": {},
   "outputs": [],
   "source": []
  }
 ],
 "metadata": {
  "kernelspec": {
   "display_name": "Python 3 (ipykernel)",
   "language": "python",
   "name": "python3"
  },
  "language_info": {
   "codemirror_mode": {
    "name": "ipython",
    "version": 3
   },
   "file_extension": ".py",
   "mimetype": "text/x-python",
   "name": "python",
   "nbconvert_exporter": "python",
   "pygments_lexer": "ipython3",
   "version": "3.9.12"
  }
 },
 "nbformat": 4,
 "nbformat_minor": 5
}
